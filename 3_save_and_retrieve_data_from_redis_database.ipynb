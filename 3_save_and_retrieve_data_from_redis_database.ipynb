{
 "cells": [
  {
   "cell_type": "code",
   "execution_count": 8,
   "id": "529d33dc-3c22-4a68-aae2-46b0a2d09343",
   "metadata": {},
   "outputs": [],
   "source": [
    "import numpy as np\n",
    "import pandas as pd\n",
    "import redis"
   ]
  },
  {
   "cell_type": "code",
   "execution_count": 9,
   "id": "d796c2ce-ab73-4ed9-80d5-bfe5d46c63a0",
   "metadata": {},
   "outputs": [],
   "source": [
    "hostname = ''\n",
    "portnumber = 19001\n",
    "password = ''\n",
    "\n",
    "r = redis. StrictRedis(host=hostname,\n",
    "port=portnumber,\n",
    "password=password)"
   ]
  },
  {
   "cell_type": "code",
   "execution_count": 10,
   "id": "12f2a684-c5b6-4efa-80c8-d79989b298b1",
   "metadata": {},
   "outputs": [
    {
     "data": {
      "text/plain": [
       "True"
      ]
     },
     "execution_count": 10,
     "metadata": {},
     "output_type": "execute_result"
    }
   ],
   "source": [
    "r.ping()"
   ]
  },
  {
   "cell_type": "markdown",
   "id": "97e78a75-5aa4-4024-834c-c99a58f5bcb7",
   "metadata": {},
   "source": [
    "## Loading the data numpy zip"
   ]
  },
  {
   "cell_type": "code",
   "execution_count": 11,
   "id": "198dac9e-e74a-47b1-bac3-4490c9fd2858",
   "metadata": {},
   "outputs": [
    {
     "data": {
      "text/html": [
       "<div>\n",
       "<style scoped>\n",
       "    .dataframe tbody tr th:only-of-type {\n",
       "        vertical-align: middle;\n",
       "    }\n",
       "\n",
       "    .dataframe tbody tr th {\n",
       "        vertical-align: top;\n",
       "    }\n",
       "\n",
       "    .dataframe thead th {\n",
       "        text-align: right;\n",
       "    }\n",
       "</style>\n",
       "<table border=\"1\" class=\"dataframe\">\n",
       "  <thead>\n",
       "    <tr style=\"text-align: right;\">\n",
       "      <th></th>\n",
       "      <th>name</th>\n",
       "      <th>role</th>\n",
       "      <th>facial_features</th>\n",
       "    </tr>\n",
       "  </thead>\n",
       "  <tbody>\n",
       "    <tr>\n",
       "      <th>0</th>\n",
       "      <td>Angelina Jolie</td>\n",
       "      <td>Student</td>\n",
       "      <td>[0.43240866661071775, 1.0746602058410644, -0.1...</td>\n",
       "    </tr>\n",
       "    <tr>\n",
       "      <th>1</th>\n",
       "      <td>Barack Obama</td>\n",
       "      <td>Teacher</td>\n",
       "      <td>[0.9487081527709961, -0.5583571434020996, 0.09...</td>\n",
       "    </tr>\n",
       "    <tr>\n",
       "      <th>2</th>\n",
       "      <td>Chris Evans</td>\n",
       "      <td>Student</td>\n",
       "      <td>[0.7200981616973877, -1.4685219764709472, -0.7...</td>\n",
       "    </tr>\n",
       "    <tr>\n",
       "      <th>3</th>\n",
       "      <td>Morgan Freeman</td>\n",
       "      <td>Teacher</td>\n",
       "      <td>[0.4854259490966797, -0.6193630218505859, -0.4...</td>\n",
       "    </tr>\n",
       "    <tr>\n",
       "      <th>4</th>\n",
       "      <td>Scarlett Johansson</td>\n",
       "      <td>Student</td>\n",
       "      <td>[0.19131546020507811, -0.48847036361694335, -1...</td>\n",
       "    </tr>\n",
       "  </tbody>\n",
       "</table>\n",
       "</div>"
      ],
      "text/plain": [
       "                 name     role  \\\n",
       "0      Angelina Jolie  Student   \n",
       "1        Barack Obama  Teacher   \n",
       "2         Chris Evans  Student   \n",
       "3      Morgan Freeman  Teacher   \n",
       "4  Scarlett Johansson  Student   \n",
       "\n",
       "                                     facial_features  \n",
       "0  [0.43240866661071775, 1.0746602058410644, -0.1...  \n",
       "1  [0.9487081527709961, -0.5583571434020996, 0.09...  \n",
       "2  [0.7200981616973877, -1.4685219764709472, -0.7...  \n",
       "3  [0.4854259490966797, -0.6193630218505859, -0.4...  \n",
       "4  [0.19131546020507811, -0.48847036361694335, -1...  "
      ]
     },
     "execution_count": 11,
     "metadata": {},
     "output_type": "execute_result"
    }
   ],
   "source": [
    "np_file = np.load('dataframe_students_teacher.npz',allow_pickle=True)\n",
    "x_values = np_file['arr_0']\n",
    "col_names = np_file['arr_1']\n",
    "\n",
    "df = pd.DataFrame(x_values,columns=col_names)\n",
    "df"
   ]
  },
  {
   "cell_type": "code",
   "execution_count": 12,
   "id": "66f2f236-3988-462a-ab1b-876396de7ee0",
   "metadata": {},
   "outputs": [
    {
     "data": {
      "text/html": [
       "<div>\n",
       "<style scoped>\n",
       "    .dataframe tbody tr th:only-of-type {\n",
       "        vertical-align: middle;\n",
       "    }\n",
       "\n",
       "    .dataframe tbody tr th {\n",
       "        vertical-align: top;\n",
       "    }\n",
       "\n",
       "    .dataframe thead th {\n",
       "        text-align: right;\n",
       "    }\n",
       "</style>\n",
       "<table border=\"1\" class=\"dataframe\">\n",
       "  <thead>\n",
       "    <tr style=\"text-align: right;\">\n",
       "      <th></th>\n",
       "      <th>name</th>\n",
       "      <th>role</th>\n",
       "      <th>facial_features</th>\n",
       "      <th>name_role</th>\n",
       "    </tr>\n",
       "  </thead>\n",
       "  <tbody>\n",
       "    <tr>\n",
       "      <th>0</th>\n",
       "      <td>Angelina Jolie</td>\n",
       "      <td>Student</td>\n",
       "      <td>[0.43240866661071775, 1.0746602058410644, -0.1...</td>\n",
       "      <td>Angelina Jolie@Student</td>\n",
       "    </tr>\n",
       "    <tr>\n",
       "      <th>1</th>\n",
       "      <td>Barack Obama</td>\n",
       "      <td>Teacher</td>\n",
       "      <td>[0.9487081527709961, -0.5583571434020996, 0.09...</td>\n",
       "      <td>Barack Obama@Teacher</td>\n",
       "    </tr>\n",
       "    <tr>\n",
       "      <th>2</th>\n",
       "      <td>Chris Evans</td>\n",
       "      <td>Student</td>\n",
       "      <td>[0.7200981616973877, -1.4685219764709472, -0.7...</td>\n",
       "      <td>Chris Evans@Student</td>\n",
       "    </tr>\n",
       "    <tr>\n",
       "      <th>3</th>\n",
       "      <td>Morgan Freeman</td>\n",
       "      <td>Teacher</td>\n",
       "      <td>[0.4854259490966797, -0.6193630218505859, -0.4...</td>\n",
       "      <td>Morgan Freeman@Teacher</td>\n",
       "    </tr>\n",
       "    <tr>\n",
       "      <th>4</th>\n",
       "      <td>Scarlett Johansson</td>\n",
       "      <td>Student</td>\n",
       "      <td>[0.19131546020507811, -0.48847036361694335, -1...</td>\n",
       "      <td>Scarlett Johansson@Student</td>\n",
       "    </tr>\n",
       "  </tbody>\n",
       "</table>\n",
       "</div>"
      ],
      "text/plain": [
       "                 name     role  \\\n",
       "0      Angelina Jolie  Student   \n",
       "1        Barack Obama  Teacher   \n",
       "2         Chris Evans  Student   \n",
       "3      Morgan Freeman  Teacher   \n",
       "4  Scarlett Johansson  Student   \n",
       "\n",
       "                                     facial_features  \\\n",
       "0  [0.43240866661071775, 1.0746602058410644, -0.1...   \n",
       "1  [0.9487081527709961, -0.5583571434020996, 0.09...   \n",
       "2  [0.7200981616973877, -1.4685219764709472, -0.7...   \n",
       "3  [0.4854259490966797, -0.6193630218505859, -0.4...   \n",
       "4  [0.19131546020507811, -0.48847036361694335, -1...   \n",
       "\n",
       "                    name_role  \n",
       "0      Angelina Jolie@Student  \n",
       "1        Barack Obama@Teacher  \n",
       "2         Chris Evans@Student  \n",
       "3      Morgan Freeman@Teacher  \n",
       "4  Scarlett Johansson@Student  "
      ]
     },
     "execution_count": 12,
     "metadata": {},
     "output_type": "execute_result"
    }
   ],
   "source": [
    "df['name_role']= df['name']+'@'+df['role']\n",
    "df"
   ]
  },
  {
   "cell_type": "code",
   "execution_count": 13,
   "id": "477d27a3-ba0d-406e-8b1d-dfbae22d0e2b",
   "metadata": {},
   "outputs": [
    {
     "data": {
      "text/plain": [
       "5"
      ]
     },
     "execution_count": 13,
     "metadata": {},
     "output_type": "execute_result"
    }
   ],
   "source": [
    "records = df[ ['name_role' ,'facial_features' ]]. to_dict(orient='records' )\n",
    "len(records)"
   ]
  },
  {
   "cell_type": "markdown",
   "id": "d48927d3-fe85-4689-87ac-78dcd8c6e5a4",
   "metadata": {},
   "source": [
    "## saving the data in redis\n",
    "- redis hashes\n",
    "- keyname = 'academy:register'"
   ]
  },
  {
   "cell_type": "code",
   "execution_count": 14,
   "id": "77528d32-ed74-456f-a606-0ee56e61f45b",
   "metadata": {},
   "outputs": [],
   "source": [
    "for record in records:\n",
    "    name_role = record['name_role' ]\n",
    "    vector = record['facial_features' ]\n",
    "    \n",
    "    # convert numpy array into bytes\n",
    "    vector_bytes = vector.tobytes()\n",
    "    \n",
    "    # save data into redis cloud\n",
    "    r.hset(name='academy:register',key=name_role, value=vector_bytes)\n",
    "    "
   ]
  },
  {
   "cell_type": "markdown",
   "id": "1637eaf4-922c-4d7d-bd83-ca8670070b27",
   "metadata": {},
   "source": [
    "### retrive records from redis"
   ]
  },
  {
   "cell_type": "code",
   "execution_count": 15,
   "id": "1dd8b6c8-3afe-4d42-b231-6ee6f711a6a5",
   "metadata": {},
   "outputs": [
    {
     "data": {
      "text/plain": [
       "b'Angelina Jolie@Student'        b'ffff\\x95\\xac\\xdb?fff\\xe6\\xce1\\xf1?3333xx\\xc0...\n",
       "b'Morgan Freeman@Teacher'        b'\\x00\\x00\\x00\\x008\\x11\\xdf?ffff\\xd2\\xd1\\xe3\\x...\n",
       "b'Scarlett Johansson@Student'    b'ffff\\x06}\\xc8?3333\\x19C\\xdf\\xbf\\x9a\\x99\\x99\\...\n",
       "b'Tamim@Student'                 b'\\x1a\\x0c\\x19?\\xe3\\xcd\\x96\\xbf\\xab\\x9a\\x12\\xc...\n",
       "b'Barack Obama@Teacher'          b'3333\\xd1[\\xee?\\xcd\\xcc\\xcc\\xcc\\x0f\\xde\\xe1\\x...\n",
       "b'Chris Evans@Student'           b'\\xcd\\xcc\\xccL\\x0b\\x0b\\xe7?fff\\xe6\\x10\\x7f\\xf...\n",
       "dtype: object"
      ]
     },
     "execution_count": 15,
     "metadata": {},
     "output_type": "execute_result"
    }
   ],
   "source": [
    "retrive_dict = r.hgetall(name='academy:register')\n",
    "retrive_series = pd.Series(retrive_dict)\n",
    "retrive_series"
   ]
  },
  {
   "cell_type": "code",
   "execution_count": 16,
   "id": "2fb411e4-28b0-4925-8e33-c7ed423ca6c3",
   "metadata": {},
   "outputs": [],
   "source": [
    "#np frombuffer(retrive_ series[b \"Morgan Freeman@Teacher' dtype=np. float32). shape\n",
    "retrive_series = retrive_series.apply(lambda x: np.frombuffer(x,dtype=np.float32))\n",
    "index = retrive_series.index\n",
    "index = list(map(lambda x: x.decode(), index))"
   ]
  },
  {
   "cell_type": "code",
   "execution_count": 17,
   "id": "2f752b34-5037-4fce-97d1-ae2bd6bd02b7",
   "metadata": {},
   "outputs": [],
   "source": [
    "retrive_series.index = index"
   ]
  },
  {
   "cell_type": "code",
   "execution_count": 18,
   "id": "1727df58-332f-4884-94fc-435683382f02",
   "metadata": {},
   "outputs": [
    {
     "data": {
      "text/html": [
       "<div>\n",
       "<style scoped>\n",
       "    .dataframe tbody tr th:only-of-type {\n",
       "        vertical-align: middle;\n",
       "    }\n",
       "\n",
       "    .dataframe tbody tr th {\n",
       "        vertical-align: top;\n",
       "    }\n",
       "\n",
       "    .dataframe thead th {\n",
       "        text-align: right;\n",
       "    }\n",
       "</style>\n",
       "<table border=\"1\" class=\"dataframe\">\n",
       "  <thead>\n",
       "    <tr style=\"text-align: right;\">\n",
       "      <th></th>\n",
       "      <th>name_role</th>\n",
       "      <th>facial_features</th>\n",
       "    </tr>\n",
       "  </thead>\n",
       "  <tbody>\n",
       "    <tr>\n",
       "      <th>0</th>\n",
       "      <td>Angelina Jolie@Student</td>\n",
       "      <td>[2.720083e+23, 1.7162043, -2.720083e+23, 1.884...</td>\n",
       "    </tr>\n",
       "    <tr>\n",
       "      <th>1</th>\n",
       "      <td>Morgan Freeman@Teacher</td>\n",
       "      <td>[0.0, 1.742713, 2.720083e+23, -1.7798407, 2.72...</td>\n",
       "    </tr>\n",
       "    <tr>\n",
       "      <th>2</th>\n",
       "      <td>Scarlett Johansson@Student</td>\n",
       "      <td>[2.720083e+23, 1.5663154, 4.172325e-08, -1.744...</td>\n",
       "    </tr>\n",
       "    <tr>\n",
       "      <th>3</th>\n",
       "      <td>Tamim@Student</td>\n",
       "      <td>[0.5978409, -1.1781582, -2.2906902, -0.5149337...</td>\n",
       "    </tr>\n",
       "    <tr>\n",
       "      <th>4</th>\n",
       "      <td>Barack Obama@Teacher</td>\n",
       "      <td>[4.172325e-08, 1.862177, -107374184.0, -1.7645...</td>\n",
       "    </tr>\n",
       "    <tr>\n",
       "      <th>5</th>\n",
       "      <td>Chris Evans@Student</td>\n",
       "      <td>[107374184.0, 1.8050245, -2.720083e+23, -1.933...</td>\n",
       "    </tr>\n",
       "  </tbody>\n",
       "</table>\n",
       "</div>"
      ],
      "text/plain": [
       "                    name_role  \\\n",
       "0      Angelina Jolie@Student   \n",
       "1      Morgan Freeman@Teacher   \n",
       "2  Scarlett Johansson@Student   \n",
       "3               Tamim@Student   \n",
       "4        Barack Obama@Teacher   \n",
       "5         Chris Evans@Student   \n",
       "\n",
       "                                     facial_features  \n",
       "0  [2.720083e+23, 1.7162043, -2.720083e+23, 1.884...  \n",
       "1  [0.0, 1.742713, 2.720083e+23, -1.7798407, 2.72...  \n",
       "2  [2.720083e+23, 1.5663154, 4.172325e-08, -1.744...  \n",
       "3  [0.5978409, -1.1781582, -2.2906902, -0.5149337...  \n",
       "4  [4.172325e-08, 1.862177, -107374184.0, -1.7645...  \n",
       "5  [107374184.0, 1.8050245, -2.720083e+23, -1.933...  "
      ]
     },
     "execution_count": 18,
     "metadata": {},
     "output_type": "execute_result"
    }
   ],
   "source": [
    "retrive_df = retrive_series.to_frame().reset_index()\n",
    "retrive_df.columns = ['name_role','facial_features']\n",
    "retrive_df"
   ]
  },
  {
   "cell_type": "code",
   "execution_count": null,
   "id": "21af4811-7dea-412d-91a1-809e47ef83b4",
   "metadata": {},
   "outputs": [],
   "source": []
  },
  {
   "cell_type": "markdown",
   "id": "8b03d58c-c4bd-48c5-89e8-b0d329d1b107",
   "metadata": {},
   "source": [
    "### Registeration Form"
   ]
  },
  {
   "cell_type": "code",
   "execution_count": 19,
   "id": "b8e7d854-7ea9-4856-b0b8-171101e35135",
   "metadata": {},
   "outputs": [
    {
     "name": "stderr",
     "output_type": "stream",
     "text": [
      "C:\\Users\\Tamim\\Desktop\\FYP\\Notes\\attendance_system\\Lib\\site-packages\\albumentations\\__init__.py:24: UserWarning: A new version of Albumentations is available: 1.4.22 (you have 1.4.21). Upgrade using: pip install -U albumentations. To disable automatic update checks, set the environment variable NO_ALBUMENTATIONS_UPDATE to 1.\n",
      "  check_for_updates()\n"
     ]
    }
   ],
   "source": [
    "import cv2\n",
    "from insightface.app import FaceAnalysis"
   ]
  },
  {
   "cell_type": "code",
   "execution_count": 20,
   "id": "018323e9-f3ec-4805-94ed-330c161bb89c",
   "metadata": {},
   "outputs": [
    {
     "name": "stdout",
     "output_type": "stream",
     "text": [
      "Applied providers: ['CPUExecutionProvider'], with options: {'CPUExecutionProvider': {}}\n",
      "find model: insightface_model\\models\\buffalo_sc\\det_500m.onnx detection [1, 3, '?', '?'] 127.5 128.0\n",
      "Applied providers: ['CPUExecutionProvider'], with options: {'CPUExecutionProvider': {}}\n",
      "find model: insightface_model\\models\\buffalo_sc\\w600k_mbf.onnx recognition ['None', 3, 112, 112] 127.5 127.5\n",
      "set det-size: (640, 640)\n"
     ]
    }
   ],
   "source": [
    "# configure face analysis\n",
    "faceapp = FaceAnalysis(name='buffalo_sc',\n",
    "    root='insightface_model',\n",
    "    providers=['CPUExecutionProvider'])\n",
    "\n",
    "faceapp.prepare(ctx_id=0, det_size=(640,640), det_thresh=0.5)\n",
    "# we should notset det_thresh < 0.3"
   ]
  },
  {
   "cell_type": "markdown",
   "id": "ee38ad89-93d0-4c74-bcd1-205bc4cfc845",
   "metadata": {},
   "source": [
    "### 1. colletion of person name and role"
   ]
  },
  {
   "cell_type": "code",
   "execution_count": 24,
   "id": "c6a05abc-ba38-43e9-9584-25cd93afa965",
   "metadata": {},
   "outputs": [
    {
     "name": "stdin",
     "output_type": "stream",
     "text": [
      "Enter your name:  tamo\n",
      "\n",
      "    Please choose:\n",
      "    1. Student\n",
      "    2. Teacher\n",
      "    \n",
      "    Enter number either 1 or 2:  1\n"
     ]
    },
    {
     "name": "stdout",
     "output_type": "stream",
     "text": [
      "Your name = tamo\n",
      "Your role = Student\n",
      "Key = tamo@Student\n"
     ]
    }
   ],
   "source": [
    "person_name = input('Enter your name: ')\n",
    "\n",
    "trials = 3\n",
    "for i in range(trials):\n",
    "    role = input(\"\"\"\n",
    "    Please choose:\n",
    "    1. Student\n",
    "    2. Teacher\n",
    "    \n",
    "    Enter number either 1 or 2: \"\"\")\n",
    "    \n",
    "    if role in ('1', '2'):\n",
    "        if role == '1':\n",
    "            role = 'Student'\n",
    "        else:\n",
    "            role = 'Teacher'\n",
    "        break\n",
    "    else:\n",
    "        print('Invalid entry, try again.')\n",
    "        if i == trials - 1:\n",
    "            print('Exceeds maximum trials.')\n",
    "            role = 'Unknown'\n",
    "            break\n",
    "\n",
    "key = person_name + '@' + role\n",
    "print('Your name =', person_name)\n",
    "print('Your role =', role)\n",
    "print('Key =', key)\n"
   ]
  },
  {
   "cell_type": "markdown",
   "id": "07796943-c597-4ee6-a914-c33edef068ab",
   "metadata": {},
   "source": [
    "### 2.collection of samples"
   ]
  },
  {
   "cell_type": "code",
   "execution_count": 25,
   "id": "24c959ed-d8e8-43e1-981e-d234ba5eb57e",
   "metadata": {},
   "outputs": [],
   "source": [
    "cap = cv2.VideoCapture(0)  # 0 for default camera, 1 for external camera\n",
    "face_embeddings = []\n",
    "sample = 0\n",
    "while True:\n",
    "    ret, frame = cap.read()\n",
    "    if not ret:\n",
    "        print('Unable to read camera')\n",
    "        break\n",
    "    # get results from the insightface model\n",
    "    results = faceapp.get(frame, max_num=1)\n",
    "    for res in results:\n",
    "        sample += 1\n",
    "        x1, y1, x2, y2 = res['bbox'].astype(int)\n",
    "        cv2.rectangle(frame, (x1, y1), (x2, y2), (0, 255, 0), 1)\n",
    "        \n",
    "        # extract facial features\n",
    "        embeddings = res['embedding']\n",
    "        face_embeddings.append(embeddings)\n",
    "    \n",
    "    if sample >= 200:\n",
    "        break\n",
    "    \n",
    "    cv2.imshow('frame', frame)\n",
    "    if cv2.waitKey(1) == ord('q'):  # triggers only when 'q' is pressed on the keyboard\n",
    "        break\n",
    "\n",
    "cap.release()\n",
    "cv2.destroyAllWindows()"
   ]
  },
  {
   "cell_type": "markdown",
   "id": "f3161abe-751e-4b80-be75-689959c9beb2",
   "metadata": {},
   "source": [
    "### 3. Optimizing the data and saving into redis"
   ]
  },
  {
   "cell_type": "code",
   "execution_count": 26,
   "id": "49507e0f-a85c-4bb8-b584-06286e233d9b",
   "metadata": {},
   "outputs": [
    {
     "data": {
      "text/plain": [
       "(512,)"
      ]
     },
     "execution_count": 26,
     "metadata": {},
     "output_type": "execute_result"
    }
   ],
   "source": [
    "x_mean = np.asarray(face_embeddings).mean(axis=0)\n",
    "x_mean.shape"
   ]
  },
  {
   "cell_type": "code",
   "execution_count": 27,
   "id": "5d20afcc-028b-4371-b698-81bc1e7bfd9c",
   "metadata": {},
   "outputs": [],
   "source": [
    "# convert into bytes\n",
    "x_mean_bytes = x_mean.tobytes()"
   ]
  },
  {
   "cell_type": "code",
   "execution_count": 28,
   "id": "659a6a2a-627e-4b64-b39d-e41a0e53f678",
   "metadata": {},
   "outputs": [
    {
     "data": {
      "text/plain": [
       "1"
      ]
     },
     "execution_count": 28,
     "metadata": {},
     "output_type": "execute_result"
    }
   ],
   "source": [
    "# save key and facial bytes into redis database\n",
    "r.hset(name='academy:register',key=key,value=x_mean_bytes)"
   ]
  },
  {
   "cell_type": "code",
   "execution_count": null,
   "id": "1956055c-a4e2-43a7-99cd-921f88a5ee66",
   "metadata": {},
   "outputs": [],
   "source": []
  },
  {
   "cell_type": "code",
   "execution_count": null,
   "id": "ecb2f99d-fbb9-44f3-952b-b8a477986a55",
   "metadata": {},
   "outputs": [],
   "source": []
  }
 ],
 "metadata": {
  "kernelspec": {
   "display_name": "Python 3 (ipykernel)",
   "language": "python",
   "name": "python3"
  },
  "language_info": {
   "codemirror_mode": {
    "name": "ipython",
    "version": 3
   },
   "file_extension": ".py",
   "mimetype": "text/x-python",
   "name": "python",
   "nbconvert_exporter": "python",
   "pygments_lexer": "ipython3",
   "version": "3.11.3"
  }
 },
 "nbformat": 4,
 "nbformat_minor": 5
}
