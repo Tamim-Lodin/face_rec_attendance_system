{
 "cells": [
  {
   "cell_type": "code",
   "execution_count": 30,
   "id": "efa087cf-2cab-4f25-9d87-444988c7c2a7",
   "metadata": {},
   "outputs": [],
   "source": [
    "import os\n",
    "import cv2\n",
    "import numpy as np\n",
    "import pandas as pd\n",
    "\n",
    "from insightface.app import FaceAnalysis"
   ]
  },
  {
   "cell_type": "code",
   "execution_count": 31,
   "id": "733bcf6f-429c-44d8-8c67-8601a87411c4",
   "metadata": {},
   "outputs": [
    {
     "name": "stdout",
     "output_type": "stream",
     "text": [
      "Applied providers: ['CPUExecutionProvider'], with options: {'CPUExecutionProvider': {}}\n",
      "find model: insightface_models\\models\\buffalo_sc\\det_500m.onnx detection [1, 3, '?', '?'] 127.5 128.0\n",
      "Applied providers: ['CPUExecutionProvider'], with options: {'CPUExecutionProvider': {}}\n",
      "find model: insightface_models\\models\\buffalo_sc\\w600k_mbf.onnx recognition ['None', 3, 112, 112] 127.5 127.5\n",
      "set det-size: (640, 640)\n"
     ]
    }
   ],
   "source": [
    "from insightface.app import FaceAnalysis\n",
    "# Configure face analysis from insightface models\n",
    "faceapp = FaceAnalysis(name='buffalo_sc', \n",
    "                       root='insightface_models', \n",
    "                       providers=['CPUExecutionProvider'])\n",
    "\n",
    "# Preparing face analysis with specified context and detection size\n",
    "faceapp.prepare(ctx_id=-1, det_size=(640, 640), det_thresh=0.5)  "
   ]
  },
  {
   "cell_type": "markdown",
   "id": "e1276ce5-4c0e-4968-81ae-5b14f1264672",
   "metadata": {},
   "source": [
    "### *Extracting images features and labels*"
   ]
  },
  {
   "cell_type": "code",
   "execution_count": 32,
   "id": "755c0ece-8d1f-4378-bafa-0baa84263532",
   "metadata": {},
   "outputs": [],
   "source": [
    "person_info = []"
   ]
  },
  {
   "cell_type": "code",
   "execution_count": 33,
   "id": "9a73f147-24d7-4f98-a29f-c9407fe41ac6",
   "metadata": {},
   "outputs": [],
   "source": [
    "import re\n",
    "# re is regular expression"
   ]
  },
  {
   "cell_type": "code",
   "execution_count": 34,
   "id": "ea054854-53c4-490e-97eb-7e75074e2a94",
   "metadata": {},
   "outputs": [],
   "source": [
    "def clean_name(string):\n",
    "    # Allow only A-Z a-z\n",
    "    string = re.sub(r'[^A-Za-z]',' ',string)\n",
    "    string = string.title()\n",
    "    return string"
   ]
  },
  {
   "cell_type": "code",
   "execution_count": 35,
   "id": "2466cd44-5272-4399-97ec-2f76c81718c6",
   "metadata": {},
   "outputs": [],
   "source": [
    "listdir = os.listdir(path='images')\n",
    "for folder_name in listdir:\n",
    "    role, name = folder_name.split('-')\n",
    "    name = clean_name(name)\n",
    "    role = clean_name(role)\n",
    "    #print('Role =',role,end='\\t')\n",
    "    #print('Name =', name)# path of each image in respective folder\n",
    "    # path of each image in respective folder\n",
    "    img_files = os.listdir(path= f'images/{folder_name}')\n",
    "    for file in img_files:\n",
    "        path = f'./images/{folder_name}/{file}'\n",
    "        #print(path) \n",
    "        # step-1: read the image\n",
    "        img_arr = cv2.imread(path)\n",
    "        \n",
    "        # step-2: get the info\n",
    "        result = faceapp.get(img_arr,max_num=1) # return list\n",
    "        \n",
    "        if len(result) > 0:\n",
    "            # step-3: extract facial embedding\n",
    "            res = result[0]\n",
    "            # in below we can extract what can be extracted such as kps or key points \n",
    "            #print(res)\n",
    "            embedding = res['embedding' ]\n",
    "            # step-4: save all info name, role, embedding in a list\n",
    "            person_info.append([name, role, embedding])\n",
    "    "
   ]
  },
  {
   "cell_type": "code",
   "execution_count": 36,
   "id": "15723b7b-6883-4f8a-97ca-6ea39101dc69",
   "metadata": {},
   "outputs": [
    {
     "data": {
      "text/html": [
       "<div>\n",
       "<style scoped>\n",
       "    .dataframe tbody tr th:only-of-type {\n",
       "        vertical-align: middle;\n",
       "    }\n",
       "\n",
       "    .dataframe tbody tr th {\n",
       "        vertical-align: top;\n",
       "    }\n",
       "\n",
       "    .dataframe thead th {\n",
       "        text-align: right;\n",
       "    }\n",
       "</style>\n",
       "<table border=\"1\" class=\"dataframe\">\n",
       "  <thead>\n",
       "    <tr style=\"text-align: right;\">\n",
       "      <th></th>\n",
       "      <th>name</th>\n",
       "      <th>role</th>\n",
       "      <th>facial_features</th>\n",
       "    </tr>\n",
       "  </thead>\n",
       "  <tbody>\n",
       "    <tr>\n",
       "      <th>0</th>\n",
       "      <td>Angelina Jolie</td>\n",
       "      <td>Student</td>\n",
       "      <td>[-0.840976, 1.6623011, -0.74578035, -2.1380825...</td>\n",
       "    </tr>\n",
       "    <tr>\n",
       "      <th>1</th>\n",
       "      <td>Angelina Jolie</td>\n",
       "      <td>Student</td>\n",
       "      <td>[0.09012404, -0.4169108, -0.37650695, 0.424011...</td>\n",
       "    </tr>\n",
       "    <tr>\n",
       "      <th>2</th>\n",
       "      <td>Angelina Jolie</td>\n",
       "      <td>Student</td>\n",
       "      <td>[0.86389506, 0.32952017, 0.05781859, -1.453824...</td>\n",
       "    </tr>\n",
       "    <tr>\n",
       "      <th>3</th>\n",
       "      <td>Angelina Jolie</td>\n",
       "      <td>Student</td>\n",
       "      <td>[1.6611172, 1.1610862, -0.41079235, -2.6411536...</td>\n",
       "    </tr>\n",
       "    <tr>\n",
       "      <th>4</th>\n",
       "      <td>Angelina Jolie</td>\n",
       "      <td>Student</td>\n",
       "      <td>[0.864314, 0.9437618, 0.4265172, -1.1836909, -...</td>\n",
       "    </tr>\n",
       "    <tr>\n",
       "      <th>5</th>\n",
       "      <td>Angelina Jolie</td>\n",
       "      <td>Student</td>\n",
       "      <td>[0.4104974, 1.1810868, -0.99572563, -1.4019102...</td>\n",
       "    </tr>\n",
       "    <tr>\n",
       "      <th>6</th>\n",
       "      <td>Angelina Jolie</td>\n",
       "      <td>Student</td>\n",
       "      <td>[0.42300695, 2.0838695, 1.0644906, -2.273823, ...</td>\n",
       "    </tr>\n",
       "    <tr>\n",
       "      <th>7</th>\n",
       "      <td>Angelina Jolie</td>\n",
       "      <td>Student</td>\n",
       "      <td>[0.39441854, 0.844123, -0.6154812, -2.104783, ...</td>\n",
       "    </tr>\n",
       "    <tr>\n",
       "      <th>8</th>\n",
       "      <td>Angelina Jolie</td>\n",
       "      <td>Student</td>\n",
       "      <td>[1.0931159, 1.16805, -0.2896319, -2.0099528, -...</td>\n",
       "    </tr>\n",
       "    <tr>\n",
       "      <th>9</th>\n",
       "      <td>Angelina Jolie</td>\n",
       "      <td>Student</td>\n",
       "      <td>[-0.63542634, 1.7897139, 0.59832734, -3.550089...</td>\n",
       "    </tr>\n",
       "    <tr>\n",
       "      <th>10</th>\n",
       "      <td>Chris Evans</td>\n",
       "      <td>Student</td>\n",
       "      <td>[1.8046337, -2.301599, -1.5814648, -1.1037462,...</td>\n",
       "    </tr>\n",
       "    <tr>\n",
       "      <th>11</th>\n",
       "      <td>Chris Evans</td>\n",
       "      <td>Student</td>\n",
       "      <td>[1.7491676, -2.121821, -0.15238187, -0.9057255...</td>\n",
       "    </tr>\n",
       "    <tr>\n",
       "      <th>12</th>\n",
       "      <td>Chris Evans</td>\n",
       "      <td>Student</td>\n",
       "      <td>[0.44954258, -1.6314547, -0.95116156, -1.54259...</td>\n",
       "    </tr>\n",
       "    <tr>\n",
       "      <th>13</th>\n",
       "      <td>Chris Evans</td>\n",
       "      <td>Student</td>\n",
       "      <td>[0.8585504, -1.0998966, -0.7710619, -1.4918095...</td>\n",
       "    </tr>\n",
       "    <tr>\n",
       "      <th>14</th>\n",
       "      <td>Chris Evans</td>\n",
       "      <td>Student</td>\n",
       "      <td>[-1.1621715, -0.68589675, -0.43853605, -2.8765...</td>\n",
       "    </tr>\n",
       "    <tr>\n",
       "      <th>15</th>\n",
       "      <td>Chris Evans</td>\n",
       "      <td>Student</td>\n",
       "      <td>[0.35355112, -0.69770634, -0.30065766, -1.9116...</td>\n",
       "    </tr>\n",
       "    <tr>\n",
       "      <th>16</th>\n",
       "      <td>Chris Evans</td>\n",
       "      <td>Student</td>\n",
       "      <td>[1.311513, -2.0906692, -1.0403854, -1.7981217,...</td>\n",
       "    </tr>\n",
       "    <tr>\n",
       "      <th>17</th>\n",
       "      <td>Chris Evans</td>\n",
       "      <td>Student</td>\n",
       "      <td>[0.97153014, -1.7576458, -1.3096507, -1.026109...</td>\n",
       "    </tr>\n",
       "    <tr>\n",
       "      <th>18</th>\n",
       "      <td>Chris Evans</td>\n",
       "      <td>Student</td>\n",
       "      <td>[0.5908869, -1.415056, -0.6726382, -1.310897, ...</td>\n",
       "    </tr>\n",
       "    <tr>\n",
       "      <th>19</th>\n",
       "      <td>Chris Evans</td>\n",
       "      <td>Student</td>\n",
       "      <td>[0.27377757, -0.8834741, -0.56312096, -0.63476...</td>\n",
       "    </tr>\n",
       "    <tr>\n",
       "      <th>20</th>\n",
       "      <td>Scarlett Johansson</td>\n",
       "      <td>Student</td>\n",
       "      <td>[0.15681785, -0.1527361, -1.1741788, 0.2226952...</td>\n",
       "    </tr>\n",
       "    <tr>\n",
       "      <th>21</th>\n",
       "      <td>Scarlett Johansson</td>\n",
       "      <td>Student</td>\n",
       "      <td>[0.9988493, -0.3466223, -1.6070874, -0.3437251...</td>\n",
       "    </tr>\n",
       "    <tr>\n",
       "      <th>22</th>\n",
       "      <td>Scarlett Johansson</td>\n",
       "      <td>Student</td>\n",
       "      <td>[0.41842282, -1.2317785, -1.1667099, 0.3219425...</td>\n",
       "    </tr>\n",
       "    <tr>\n",
       "      <th>23</th>\n",
       "      <td>Scarlett Johansson</td>\n",
       "      <td>Student</td>\n",
       "      <td>[0.74071056, -0.2172078, -2.1699548, -0.382094...</td>\n",
       "    </tr>\n",
       "    <tr>\n",
       "      <th>24</th>\n",
       "      <td>Scarlett Johansson</td>\n",
       "      <td>Student</td>\n",
       "      <td>[-0.29318038, -0.027690813, -3.063887, -0.0223...</td>\n",
       "    </tr>\n",
       "    <tr>\n",
       "      <th>25</th>\n",
       "      <td>Scarlett Johansson</td>\n",
       "      <td>Student</td>\n",
       "      <td>[0.9100211, -0.7951274, -2.354409, 0.8837526, ...</td>\n",
       "    </tr>\n",
       "    <tr>\n",
       "      <th>26</th>\n",
       "      <td>Scarlett Johansson</td>\n",
       "      <td>Student</td>\n",
       "      <td>[0.51819485, -0.70666325, -1.5376583, 0.951404...</td>\n",
       "    </tr>\n",
       "    <tr>\n",
       "      <th>27</th>\n",
       "      <td>Scarlett Johansson</td>\n",
       "      <td>Student</td>\n",
       "      <td>[-0.97056913, -0.09710638, -2.1181054, 1.34236...</td>\n",
       "    </tr>\n",
       "    <tr>\n",
       "      <th>28</th>\n",
       "      <td>Scarlett Johansson</td>\n",
       "      <td>Student</td>\n",
       "      <td>[0.87921494, -0.5880271, 0.08242196, 0.6541158...</td>\n",
       "    </tr>\n",
       "    <tr>\n",
       "      <th>29</th>\n",
       "      <td>Scarlett Johansson</td>\n",
       "      <td>Student</td>\n",
       "      <td>[-1.4453273, -0.7217443, -1.7932162, 0.7955634...</td>\n",
       "    </tr>\n",
       "    <tr>\n",
       "      <th>30</th>\n",
       "      <td>Barack Obama</td>\n",
       "      <td>Teacher</td>\n",
       "      <td>[0.8677803, -0.26745942, 0.07078171, -0.144091...</td>\n",
       "    </tr>\n",
       "    <tr>\n",
       "      <th>31</th>\n",
       "      <td>Barack Obama</td>\n",
       "      <td>Teacher</td>\n",
       "      <td>[1.6967455, -0.99374783, -0.22407177, -1.75001...</td>\n",
       "    </tr>\n",
       "    <tr>\n",
       "      <th>32</th>\n",
       "      <td>Barack Obama</td>\n",
       "      <td>Teacher</td>\n",
       "      <td>[0.048964575, -0.49315184, -0.19480643, -1.122...</td>\n",
       "    </tr>\n",
       "    <tr>\n",
       "      <th>33</th>\n",
       "      <td>Barack Obama</td>\n",
       "      <td>Teacher</td>\n",
       "      <td>[0.7238302, -0.9442405, -0.08774108, -2.404879...</td>\n",
       "    </tr>\n",
       "    <tr>\n",
       "      <th>34</th>\n",
       "      <td>Barack Obama</td>\n",
       "      <td>Teacher</td>\n",
       "      <td>[0.5904316, 0.43525362, 0.3595047, -2.803945, ...</td>\n",
       "    </tr>\n",
       "    <tr>\n",
       "      <th>35</th>\n",
       "      <td>Barack Obama</td>\n",
       "      <td>Teacher</td>\n",
       "      <td>[0.33068788, -1.2782055, 0.4005087, -1.3586802...</td>\n",
       "    </tr>\n",
       "    <tr>\n",
       "      <th>36</th>\n",
       "      <td>Barack Obama</td>\n",
       "      <td>Teacher</td>\n",
       "      <td>[-0.06508007, 0.01565358, -0.85267746, -0.3290...</td>\n",
       "    </tr>\n",
       "    <tr>\n",
       "      <th>37</th>\n",
       "      <td>Barack Obama</td>\n",
       "      <td>Teacher</td>\n",
       "      <td>[2.277565, -1.3967812, 1.5635507, -1.4799635, ...</td>\n",
       "    </tr>\n",
       "    <tr>\n",
       "      <th>38</th>\n",
       "      <td>Barack Obama</td>\n",
       "      <td>Teacher</td>\n",
       "      <td>[1.6049532, -0.2434924, 0.36104548, 0.04073015...</td>\n",
       "    </tr>\n",
       "    <tr>\n",
       "      <th>39</th>\n",
       "      <td>Barack Obama</td>\n",
       "      <td>Teacher</td>\n",
       "      <td>[1.4112035, -0.4173997, -0.4473747, -1.4431926...</td>\n",
       "    </tr>\n",
       "    <tr>\n",
       "      <th>40</th>\n",
       "      <td>Morgan Freeman</td>\n",
       "      <td>Teacher</td>\n",
       "      <td>[0.52497923, -0.52474934, -0.51566666, 0.82679...</td>\n",
       "    </tr>\n",
       "    <tr>\n",
       "      <th>41</th>\n",
       "      <td>Morgan Freeman</td>\n",
       "      <td>Teacher</td>\n",
       "      <td>[0.79333276, -0.48215386, -1.7259705, 0.651349...</td>\n",
       "    </tr>\n",
       "    <tr>\n",
       "      <th>42</th>\n",
       "      <td>Morgan Freeman</td>\n",
       "      <td>Teacher</td>\n",
       "      <td>[-0.13147733, 0.04087484, 0.62813395, 0.683366...</td>\n",
       "    </tr>\n",
       "    <tr>\n",
       "      <th>43</th>\n",
       "      <td>Morgan Freeman</td>\n",
       "      <td>Teacher</td>\n",
       "      <td>[0.4871657, -0.4776995, -1.0032179, 1.2769787,...</td>\n",
       "    </tr>\n",
       "    <tr>\n",
       "      <th>44</th>\n",
       "      <td>Morgan Freeman</td>\n",
       "      <td>Teacher</td>\n",
       "      <td>[1.2917784, -0.94640553, -0.1353631, 1.0459716...</td>\n",
       "    </tr>\n",
       "    <tr>\n",
       "      <th>45</th>\n",
       "      <td>Morgan Freeman</td>\n",
       "      <td>Teacher</td>\n",
       "      <td>[-0.27494577, -0.27522966, -0.8412495, 1.27991...</td>\n",
       "    </tr>\n",
       "    <tr>\n",
       "      <th>46</th>\n",
       "      <td>Morgan Freeman</td>\n",
       "      <td>Teacher</td>\n",
       "      <td>[0.7716732, -0.6371075, 0.1712926, 0.55135304,...</td>\n",
       "    </tr>\n",
       "    <tr>\n",
       "      <th>47</th>\n",
       "      <td>Morgan Freeman</td>\n",
       "      <td>Teacher</td>\n",
       "      <td>[1.2278079, -1.5642701, 0.42995828, 0.9718561,...</td>\n",
       "    </tr>\n",
       "    <tr>\n",
       "      <th>48</th>\n",
       "      <td>Morgan Freeman</td>\n",
       "      <td>Teacher</td>\n",
       "      <td>[-0.2604409, 0.020359337, -0.4196607, 1.675411...</td>\n",
       "    </tr>\n",
       "    <tr>\n",
       "      <th>49</th>\n",
       "      <td>Morgan Freeman</td>\n",
       "      <td>Teacher</td>\n",
       "      <td>[0.4243862, -1.3472493, -0.657595, 1.7241019, ...</td>\n",
       "    </tr>\n",
       "  </tbody>\n",
       "</table>\n",
       "</div>"
      ],
      "text/plain": [
       "                  name     role  \\\n",
       "0       Angelina Jolie  Student   \n",
       "1       Angelina Jolie  Student   \n",
       "2       Angelina Jolie  Student   \n",
       "3       Angelina Jolie  Student   \n",
       "4       Angelina Jolie  Student   \n",
       "5       Angelina Jolie  Student   \n",
       "6       Angelina Jolie  Student   \n",
       "7       Angelina Jolie  Student   \n",
       "8       Angelina Jolie  Student   \n",
       "9       Angelina Jolie  Student   \n",
       "10         Chris Evans  Student   \n",
       "11         Chris Evans  Student   \n",
       "12         Chris Evans  Student   \n",
       "13         Chris Evans  Student   \n",
       "14         Chris Evans  Student   \n",
       "15         Chris Evans  Student   \n",
       "16         Chris Evans  Student   \n",
       "17         Chris Evans  Student   \n",
       "18         Chris Evans  Student   \n",
       "19         Chris Evans  Student   \n",
       "20  Scarlett Johansson  Student   \n",
       "21  Scarlett Johansson  Student   \n",
       "22  Scarlett Johansson  Student   \n",
       "23  Scarlett Johansson  Student   \n",
       "24  Scarlett Johansson  Student   \n",
       "25  Scarlett Johansson  Student   \n",
       "26  Scarlett Johansson  Student   \n",
       "27  Scarlett Johansson  Student   \n",
       "28  Scarlett Johansson  Student   \n",
       "29  Scarlett Johansson  Student   \n",
       "30        Barack Obama  Teacher   \n",
       "31        Barack Obama  Teacher   \n",
       "32        Barack Obama  Teacher   \n",
       "33        Barack Obama  Teacher   \n",
       "34        Barack Obama  Teacher   \n",
       "35        Barack Obama  Teacher   \n",
       "36        Barack Obama  Teacher   \n",
       "37        Barack Obama  Teacher   \n",
       "38        Barack Obama  Teacher   \n",
       "39        Barack Obama  Teacher   \n",
       "40      Morgan Freeman  Teacher   \n",
       "41      Morgan Freeman  Teacher   \n",
       "42      Morgan Freeman  Teacher   \n",
       "43      Morgan Freeman  Teacher   \n",
       "44      Morgan Freeman  Teacher   \n",
       "45      Morgan Freeman  Teacher   \n",
       "46      Morgan Freeman  Teacher   \n",
       "47      Morgan Freeman  Teacher   \n",
       "48      Morgan Freeman  Teacher   \n",
       "49      Morgan Freeman  Teacher   \n",
       "\n",
       "                                      facial_features  \n",
       "0   [-0.840976, 1.6623011, -0.74578035, -2.1380825...  \n",
       "1   [0.09012404, -0.4169108, -0.37650695, 0.424011...  \n",
       "2   [0.86389506, 0.32952017, 0.05781859, -1.453824...  \n",
       "3   [1.6611172, 1.1610862, -0.41079235, -2.6411536...  \n",
       "4   [0.864314, 0.9437618, 0.4265172, -1.1836909, -...  \n",
       "5   [0.4104974, 1.1810868, -0.99572563, -1.4019102...  \n",
       "6   [0.42300695, 2.0838695, 1.0644906, -2.273823, ...  \n",
       "7   [0.39441854, 0.844123, -0.6154812, -2.104783, ...  \n",
       "8   [1.0931159, 1.16805, -0.2896319, -2.0099528, -...  \n",
       "9   [-0.63542634, 1.7897139, 0.59832734, -3.550089...  \n",
       "10  [1.8046337, -2.301599, -1.5814648, -1.1037462,...  \n",
       "11  [1.7491676, -2.121821, -0.15238187, -0.9057255...  \n",
       "12  [0.44954258, -1.6314547, -0.95116156, -1.54259...  \n",
       "13  [0.8585504, -1.0998966, -0.7710619, -1.4918095...  \n",
       "14  [-1.1621715, -0.68589675, -0.43853605, -2.8765...  \n",
       "15  [0.35355112, -0.69770634, -0.30065766, -1.9116...  \n",
       "16  [1.311513, -2.0906692, -1.0403854, -1.7981217,...  \n",
       "17  [0.97153014, -1.7576458, -1.3096507, -1.026109...  \n",
       "18  [0.5908869, -1.415056, -0.6726382, -1.310897, ...  \n",
       "19  [0.27377757, -0.8834741, -0.56312096, -0.63476...  \n",
       "20  [0.15681785, -0.1527361, -1.1741788, 0.2226952...  \n",
       "21  [0.9988493, -0.3466223, -1.6070874, -0.3437251...  \n",
       "22  [0.41842282, -1.2317785, -1.1667099, 0.3219425...  \n",
       "23  [0.74071056, -0.2172078, -2.1699548, -0.382094...  \n",
       "24  [-0.29318038, -0.027690813, -3.063887, -0.0223...  \n",
       "25  [0.9100211, -0.7951274, -2.354409, 0.8837526, ...  \n",
       "26  [0.51819485, -0.70666325, -1.5376583, 0.951404...  \n",
       "27  [-0.97056913, -0.09710638, -2.1181054, 1.34236...  \n",
       "28  [0.87921494, -0.5880271, 0.08242196, 0.6541158...  \n",
       "29  [-1.4453273, -0.7217443, -1.7932162, 0.7955634...  \n",
       "30  [0.8677803, -0.26745942, 0.07078171, -0.144091...  \n",
       "31  [1.6967455, -0.99374783, -0.22407177, -1.75001...  \n",
       "32  [0.048964575, -0.49315184, -0.19480643, -1.122...  \n",
       "33  [0.7238302, -0.9442405, -0.08774108, -2.404879...  \n",
       "34  [0.5904316, 0.43525362, 0.3595047, -2.803945, ...  \n",
       "35  [0.33068788, -1.2782055, 0.4005087, -1.3586802...  \n",
       "36  [-0.06508007, 0.01565358, -0.85267746, -0.3290...  \n",
       "37  [2.277565, -1.3967812, 1.5635507, -1.4799635, ...  \n",
       "38  [1.6049532, -0.2434924, 0.36104548, 0.04073015...  \n",
       "39  [1.4112035, -0.4173997, -0.4473747, -1.4431926...  \n",
       "40  [0.52497923, -0.52474934, -0.51566666, 0.82679...  \n",
       "41  [0.79333276, -0.48215386, -1.7259705, 0.651349...  \n",
       "42  [-0.13147733, 0.04087484, 0.62813395, 0.683366...  \n",
       "43  [0.4871657, -0.4776995, -1.0032179, 1.2769787,...  \n",
       "44  [1.2917784, -0.94640553, -0.1353631, 1.0459716...  \n",
       "45  [-0.27494577, -0.27522966, -0.8412495, 1.27991...  \n",
       "46  [0.7716732, -0.6371075, 0.1712926, 0.55135304,...  \n",
       "47  [1.2278079, -1.5642701, 0.42995828, 0.9718561,...  \n",
       "48  [-0.2604409, 0.020359337, -0.4196607, 1.675411...  \n",
       "49  [0.4243862, -1.3472493, -0.657595, 1.7241019, ...  "
      ]
     },
     "execution_count": 36,
     "metadata": {},
     "output_type": "execute_result"
    }
   ],
   "source": [
    "#print(person_info)\n",
    "# bcz it is difficult to read in this way so we will create a data frame for better reading the results \n",
    "dataframe = pd.DataFrame(person_info,columns= ['name','role','facial_features'])\n",
    "dataframe"
   ]
  },
  {
   "cell_type": "markdown",
   "id": "9d9c8564-baa7-453b-98e3-c578377d0f77",
   "metadata": {},
   "source": [
    "### *Inference*"
   ]
  },
  {
   "cell_type": "markdown",
   "id": "a01346d6-5711-4f79-9146-5446f999529a",
   "metadata": {},
   "source": [
    "### *step1.Reading an image for testing*"
   ]
  },
  {
   "cell_type": "code",
   "execution_count": 37,
   "id": "35cc5342-7d50-4741-b0bb-ccd01bcd63f6",
   "metadata": {},
   "outputs": [],
   "source": [
    "# read test image\n",
    "img_test = cv2.imread('test_images/test_2.jpeg')\n",
    "cv2.imshow('test image',img_test)\n",
    "cv2.waitKey(0)\n",
    "cv2.destroyAllWindows()"
   ]
  },
  {
   "cell_type": "markdown",
   "id": "8d12b44b-79e3-41df-aeaf-430e4a8a2488",
   "metadata": {},
   "source": [
    "### *step2. Extracting images features*"
   ]
  },
  {
   "cell_type": "code",
   "execution_count": 38,
   "id": "6658d119-5f67-4800-8fcf-84f4d8d1aced",
   "metadata": {},
   "outputs": [
    {
     "name": "stdout",
     "output_type": "stream",
     "text": [
      "current loop = 0\n"
     ]
    }
   ],
   "source": [
    "res_test = faceapp.get(img_test, max_num=0)\n",
    "for i, rt in enumerate(res_test):\n",
    "    print('current loop =', i)\n",
    "    bbox = rt['bbox'].astype(int)\n",
    "    score = int(rt['det_score'] * 100)\n",
    "    embed_test = rt['embedding']\n"
   ]
  },
  {
   "cell_type": "code",
   "execution_count": 39,
   "id": "69dd939f-b194-4534-a84a-273deb2addc1",
   "metadata": {},
   "outputs": [
    {
     "data": {
      "text/plain": [
       "512"
      ]
     },
     "execution_count": 39,
     "metadata": {},
     "output_type": "execute_result"
    }
   ],
   "source": [
    "# consider only one sample\n",
    "len(embed_test)"
   ]
  },
  {
   "cell_type": "code",
   "execution_count": 40,
   "id": "23f4b99a-1794-480e-a152-5f072a9a6d42",
   "metadata": {},
   "outputs": [],
   "source": [
    "x_list = dataframe['facial_features'].tolist()\n",
    "x = np.asarray(x_list)"
   ]
  },
  {
   "cell_type": "code",
   "execution_count": 41,
   "id": "e573eb21-c8d8-4ba2-9189-bb47cab10a18",
   "metadata": {},
   "outputs": [
    {
     "data": {
      "text/plain": [
       "(50, 512)"
      ]
     },
     "execution_count": 41,
     "metadata": {},
     "output_type": "execute_result"
    }
   ],
   "source": [
    "x.shape"
   ]
  },
  {
   "cell_type": "code",
   "execution_count": 42,
   "id": "26bb51cc-7210-408f-ae6e-16806bdb689f",
   "metadata": {},
   "outputs": [],
   "source": [
    "from sklearn.metrics import pairwise"
   ]
  },
  {
   "cell_type": "code",
   "execution_count": 43,
   "id": "72e77139-f05d-4fd5-a2f2-d9afa378beca",
   "metadata": {},
   "outputs": [],
   "source": [
    "y = embed_test.reshape(1,512) # 1 x 512\n",
    "\n",
    "equlidean_distance = pairwise.euclidean_distances(x,y)\n",
    "manhattan_distance = pairwise.manhattan_distances(x,y)\n",
    "cosine_similar = pairwise.cosine_similarity(x,y)"
   ]
  },
  {
   "cell_type": "code",
   "execution_count": 44,
   "id": "bf4dd59f-70fb-4ffa-8508-666430e7d739",
   "metadata": {},
   "outputs": [],
   "source": [
    "data_search = dataframe.copy()\n",
    "data_search['equlidean'] = equlidean_distance\n",
    "data_search['manhattan' ] = manhattan_distance\n",
    "data_search['cosine'] = cosine_similar"
   ]
  },
  {
   "cell_type": "code",
   "execution_count": 45,
   "id": "12426cdd-88f7-451c-842e-552be89952f4",
   "metadata": {},
   "outputs": [
    {
     "data": {
      "text/html": [
       "<div>\n",
       "<style scoped>\n",
       "    .dataframe tbody tr th:only-of-type {\n",
       "        vertical-align: middle;\n",
       "    }\n",
       "\n",
       "    .dataframe tbody tr th {\n",
       "        vertical-align: top;\n",
       "    }\n",
       "\n",
       "    .dataframe thead th {\n",
       "        text-align: right;\n",
       "    }\n",
       "</style>\n",
       "<table border=\"1\" class=\"dataframe\">\n",
       "  <thead>\n",
       "    <tr style=\"text-align: right;\">\n",
       "      <th></th>\n",
       "      <th>name</th>\n",
       "      <th>role</th>\n",
       "      <th>facial_features</th>\n",
       "      <th>equlidean</th>\n",
       "      <th>manhattan</th>\n",
       "      <th>cosine</th>\n",
       "    </tr>\n",
       "  </thead>\n",
       "  <tbody>\n",
       "    <tr>\n",
       "      <th>0</th>\n",
       "      <td>Angelina Jolie</td>\n",
       "      <td>Student</td>\n",
       "      <td>[-0.840976, 1.6623011, -0.74578035, -2.1380825...</td>\n",
       "      <td>30.831608</td>\n",
       "      <td>550.446653</td>\n",
       "      <td>-0.011336</td>\n",
       "    </tr>\n",
       "    <tr>\n",
       "      <th>1</th>\n",
       "      <td>Angelina Jolie</td>\n",
       "      <td>Student</td>\n",
       "      <td>[0.09012404, -0.4169108, -0.37650695, 0.424011...</td>\n",
       "      <td>30.680958</td>\n",
       "      <td>555.258290</td>\n",
       "      <td>0.018317</td>\n",
       "    </tr>\n",
       "  </tbody>\n",
       "</table>\n",
       "</div>"
      ],
      "text/plain": [
       "             name     role                                    facial_features  \\\n",
       "0  Angelina Jolie  Student  [-0.840976, 1.6623011, -0.74578035, -2.1380825...   \n",
       "1  Angelina Jolie  Student  [0.09012404, -0.4169108, -0.37650695, 0.424011...   \n",
       "\n",
       "   equlidean   manhattan    cosine  \n",
       "0  30.831608  550.446653 -0.011336  \n",
       "1  30.680958  555.258290  0.018317  "
      ]
     },
     "execution_count": 45,
     "metadata": {},
     "output_type": "execute_result"
    }
   ],
   "source": [
    "data_search.head(2)"
   ]
  },
  {
   "cell_type": "code",
   "execution_count": 46,
   "id": "6aee60ce-92b5-4db9-99b1-2ad867b71424",
   "metadata": {},
   "outputs": [
    {
     "data": {
      "image/png": "[encoded data removed]",
      "text/plain": [
       "<Figure size 1000x1600 with 3 Axes>"
      ]
     },
     "metadata": {},
     "output_type": "display_data"
    }
   ],
   "source": [
    "import matplotlib.pyplot as plt\n",
    "\n",
    "plt.figure(figsize=(10,16))\n",
    "plt.subplot(3,1,1)\n",
    "plt.plot(data_search['equlidean' ], )\n",
    "plt.xticks(ticks=list(range(len(data_search['equlidean']))),\n",
    "labels=data_search['name'],rotation=90)\n",
    "plt.xlabel('Name of the Person')\n",
    "plt.ylabel('Equlidean')\n",
    "plt.title('Equlidean Distance')\n",
    "plt.grid()\n",
    "\n",
    "plt.subplot(3,1,2)\n",
    "plt.plot(data_search['manhattan' ],)\n",
    "plt.xticks(ticks=list(range(len(data_search['manhattan']))),\n",
    "labels=data_search['name'],rotation=90)\n",
    "plt.xlabel('Name of the Person')\n",
    "plt.ylabel('manhattan')\n",
    "plt.title('Manhattan Distance')\n",
    "plt.grid()\n",
    "\n",
    "1\n",
    "\n",
    "plt.subplot(3,1,3)\n",
    "plt.plot(data_search['cosine'],)\n",
    "plt.xticks(ticks=list(range(len(data_search['cosine']))),\n",
    "labels=data_search['name'],rotation=90)\n",
    "plt.xlabel('Name of the Person')\n",
    "plt.ylabel('cosine')\n",
    "plt.title('Cosine Similarity')\n",
    "plt.grid()\n",
    "\n",
    "plt.show()"
   ]
  },
  {
   "cell_type": "markdown",
   "id": "8e500f18-1559-4d61-82b3-71e2efdf7754",
   "metadata": {},
   "source": [
    "### *Identify the person using equlidean distance*"
   ]
  },
  {
   "cell_type": "code",
   "execution_count": 47,
   "id": "d631d2b6-940b-4177-9a2f-e3f0a7d88857",
   "metadata": {},
   "outputs": [
    {
     "name": "stdout",
     "output_type": "stream",
     "text": [
      "Chris Evans Student\n"
     ]
    }
   ],
   "source": [
    "d_eq_optimal = 25\n",
    "\n",
    "datafilter = data_search.query(f'equlidean < {d_eq_optimal}')\n",
    "datafilter.reset_index(drop=True,inplace=True)\n",
    "\n",
    "if len(datafilter) > 0:\n",
    "    argmin = datafilter['equlidean' ].argmin()\n",
    "    name , role = datafilter.loc[argmin][['name' ,'role' ]]\n",
    "else:\n",
    "    name = 'Unknown'\n",
    "    role = 'Unknown'\n",
    "\n",
    "print(name, role)"
   ]
  },
  {
   "cell_type": "markdown",
   "id": "76f68223-2236-40ab-b093-4eeb1f14fa12",
   "metadata": {},
   "source": [
    "### *Identify the person using Manhattan distance*"
   ]
  },
  {
   "cell_type": "code",
   "execution_count": 48,
   "id": "cbe8439f-75ab-4588-bd83-06c207e5652e",
   "metadata": {},
   "outputs": [
    {
     "name": "stdout",
     "output_type": "stream",
     "text": [
      "Chris Evans Student\n"
     ]
    }
   ],
   "source": [
    "d_man_optimal = 450\n",
    "\n",
    "datafilter = data_search.query(f'manhattan < {d_man_optimal}')\n",
    "datafilter.reset_index(drop=True,inplace=True)\n",
    "\n",
    "if len(datafilter) > 0:\n",
    "    argmin = datafilter['manhattan'].argmin()\n",
    "    name_man , role_man = datafilter.loc[argmin][ ['name' ,'role' ]]\n",
    "\n",
    "else:\n",
    "    name_man = 'Unknown'\n",
    "    role_man = 'Unknown'\n",
    "\n",
    "print(name, role)"
   ]
  },
  {
   "cell_type": "markdown",
   "id": "52f34989-31c4-42ba-bd78-1978a8c6d281",
   "metadata": {},
   "source": [
    "### *Identify the person using Cosine similarity*"
   ]
  },
  {
   "cell_type": "code",
   "execution_count": 49,
   "id": "57c3f66f-2de4-4f0e-bc4e-017ffe34c2bf",
   "metadata": {},
   "outputs": [
    {
     "name": "stdout",
     "output_type": "stream",
     "text": [
      "Chris Evans Student\n"
     ]
    }
   ],
   "source": [
    "S_opt = 0.4\n",
    "\n",
    "datafilter = data_search.query(f'cosine > {S_opt}')\n",
    "datafilter.reset_index(drop=True, inplace=True)\n",
    "\n",
    "if len(datafilter) > 0:\n",
    "    argmax = datafilter['cosine' ]. argmax()\n",
    "    name_cos , role_cos = datafilter. loc[argmax] [ ['name' ,'role' ]]\n",
    "\n",
    "else:\n",
    "    name_cos = 'Unknown'\n",
    "    role_cos = 'Unknown'\n",
    "\n",
    "print(name_cos, role_cos)"
   ]
  },
  {
   "cell_type": "markdown",
   "id": "a3880a5d-336f-4d1b-ab6e-0e7a988df150",
   "metadata": {},
   "source": [
    "### *Identify multiple person name in an image*"
   ]
  },
  {
   "cell_type": "code",
   "execution_count": 50,
   "id": "06cd4313-82dc-479f-a896-2750d0d0a010",
   "metadata": {},
   "outputs": [],
   "source": [
    "def ml_search_algorithm(dataframe, feature_column, test_vector,name_role=['name','role'],thresh=0.5):\n",
    "\n",
    "#cosine similarity base search algorithm\n",
    "\n",
    "    # step-1: take the dataframe (collection of data)\n",
    "    dataframe = dataframe.copy()\n",
    "    # step-2: Index face embeding from the dataframe and convert into array\n",
    "    x_list = dataframe[feature_column].tolist()\n",
    "    x = np.asarray(x_list)\n",
    "    \n",
    "    # step-3: Cal. cosine similarity\n",
    "    similar = pairwise.cosine_similarity(x,test_vector.reshape(1,-1))\n",
    "    similar_arr = np.array(similar).flatten()\n",
    "    dataframe['cosine'] = similar_arr\n",
    "    \n",
    "    # step-4: filter the data\n",
    "    data_filter = dataframe.query(f'cosine >= {thresh}')\n",
    "    if len(data_filter) > 0:\n",
    "        # step-5: get the person name\n",
    "        data_filter.reset_index(drop=True,inplace=True)\n",
    "        argmax = data_filter['cosine' ].argmax()\n",
    "        person_name, person_role = data_filter.loc[argmax][name_role]\n",
    "    \n",
    "    else:\n",
    "        person_name = 'Unknown'\n",
    "        person_role = 'Unknown'\n",
    "    return person_name, person_role"
   ]
  },
  {
   "cell_type": "code",
   "execution_count": 51,
   "id": "4f070674-85e1-48da-83a5-19c89954b7ba",
   "metadata": {},
   "outputs": [],
   "source": [
    "test_image = cv2.imread('test_images/test_11.jpg')\n",
    "cv2.imshow('test image',test_image)\n",
    "cv2.waitKey()\n",
    "cv2.destroyAllWindows()"
   ]
  },
  {
   "cell_type": "markdown",
   "id": "1ea097de-8f91-4f9c-bbe8-3c1bb4b735cb",
   "metadata": {},
   "source": [
    "### compressing my dataset"
   ]
  },
  {
   "cell_type": "code",
   "execution_count": 52,
   "id": "84c45316-c615-4724-a57a-f8e48ed7bbd7",
   "metadata": {},
   "outputs": [
    {
     "data": {
      "text/html": [
       "<div>\n",
       "<style scoped>\n",
       "    .dataframe tbody tr th:only-of-type {\n",
       "        vertical-align: middle;\n",
       "    }\n",
       "\n",
       "    .dataframe tbody tr th {\n",
       "        vertical-align: top;\n",
       "    }\n",
       "\n",
       "    .dataframe thead th {\n",
       "        text-align: right;\n",
       "    }\n",
       "</style>\n",
       "<table border=\"1\" class=\"dataframe\">\n",
       "  <thead>\n",
       "    <tr style=\"text-align: right;\">\n",
       "      <th></th>\n",
       "      <th>name</th>\n",
       "      <th>role</th>\n",
       "      <th>facial_features</th>\n",
       "    </tr>\n",
       "  </thead>\n",
       "  <tbody>\n",
       "    <tr>\n",
       "      <th>0</th>\n",
       "      <td>Angelina Jolie</td>\n",
       "      <td>Student</td>\n",
       "      <td>[0.43240866661071775, 1.0746602058410644, -0.1...</td>\n",
       "    </tr>\n",
       "    <tr>\n",
       "      <th>1</th>\n",
       "      <td>Barack Obama</td>\n",
       "      <td>Teacher</td>\n",
       "      <td>[0.9487081527709961, -0.5583571434020996, 0.09...</td>\n",
       "    </tr>\n",
       "    <tr>\n",
       "      <th>2</th>\n",
       "      <td>Chris Evans</td>\n",
       "      <td>Student</td>\n",
       "      <td>[0.7200981616973877, -1.4685219764709472, -0.7...</td>\n",
       "    </tr>\n",
       "    <tr>\n",
       "      <th>3</th>\n",
       "      <td>Morgan Freeman</td>\n",
       "      <td>Teacher</td>\n",
       "      <td>[0.4854259490966797, -0.6193630218505859, -0.4...</td>\n",
       "    </tr>\n",
       "    <tr>\n",
       "      <th>4</th>\n",
       "      <td>Scarlett Johansson</td>\n",
       "      <td>Student</td>\n",
       "      <td>[0.19131546020507811, -0.48847036361694335, -1...</td>\n",
       "    </tr>\n",
       "  </tbody>\n",
       "</table>\n",
       "</div>"
      ],
      "text/plain": [
       "                 name     role  \\\n",
       "0      Angelina Jolie  Student   \n",
       "1        Barack Obama  Teacher   \n",
       "2         Chris Evans  Student   \n",
       "3      Morgan Freeman  Teacher   \n",
       "4  Scarlett Johansson  Student   \n",
       "\n",
       "                                     facial_features  \n",
       "0  [0.43240866661071775, 1.0746602058410644, -0.1...  \n",
       "1  [0.9487081527709961, -0.5583571434020996, 0.09...  \n",
       "2  [0.7200981616973877, -1.4685219764709472, -0.7...  \n",
       "3  [0.4854259490966797, -0.6193630218505859, -0.4...  \n",
       "4  [0.19131546020507811, -0.48847036361694335, -1...  "
      ]
     },
     "execution_count": 52,
     "metadata": {},
     "output_type": "execute_result"
    }
   ],
   "source": [
    "dataframe_compress = dataframe.groupby(by=['name','role']).mean()\n",
    "dataframe_compress.reset_index(inplace=True)\n",
    "dataframe_compress"
   ]
  },
  {
   "cell_type": "code",
   "execution_count": 53,
   "id": "b68452d8-d93a-47f9-a410-8911e947289a",
   "metadata": {},
   "outputs": [],
   "source": [
    "# step-1: take the test image and apply to insight face\n",
    "results = faceapp.get(test_image)\n",
    "test_copy = test_image.copy()\n",
    "# step-2: use for loop and extract each embedding and pass to ml_search_algorithm\n",
    "\n",
    "for res in results:\n",
    "    x1, y1,x2,y2=res['bbox'].astype(int)\n",
    "    embeddings = res['embedding' ]\n",
    "    # testing with both the dataset and compressed dataset which obtained in below cell\n",
    "    #person_name, person_role = ml_search_algorithm(dataframe,'facial_features',test_vector=embeddings,name_role=['name','role'],thresh=0.5)\n",
    "    person_name, person_role = ml_search_algorithm(dataframe_compress,'facial_features',test_vector=embeddings,name_role=['name','role'],thresh=0.5)\n",
    "    \n",
    "    \n",
    "    \n",
    "    if person_name == 'Unknown':\n",
    "        color =(0,0,255) # bgr\n",
    "    else:\n",
    "        color = (0,255,0)\n",
    "    cv2.rectangle(test_copy,(x1,y1),(x2,y2),color)\n",
    "    text_gen = person_name\n",
    "    cv2.putText(test_copy,text_gen,(x1,y1),cv2.FONT_HERSHEY_DUPLEX,0.7,color,2)\n",
    "\n",
    "cv2.imshow('test image',test_copy)\n",
    "cv2.waitKey()\n",
    "cv2.destroyAllWindows()\n"
   ]
  },
  {
   "cell_type": "markdown",
   "id": "ac55a58d-6b28-4f9b-b6fb-eabcb6a005df",
   "metadata": {},
   "source": [
    "### ***converting the numpy into array and then saving as numpyzip file***"
   ]
  },
  {
   "cell_type": "code",
   "execution_count": 54,
   "id": "7bf90c29-9767-43da-9fdc-a9100f7c0e8c",
   "metadata": {},
   "outputs": [],
   "source": [
    "xvalues = dataframe_compress.values"
   ]
  },
  {
   "cell_type": "code",
   "execution_count": 55,
   "id": "46fb16b1-40ea-442a-9e92-592be2c298d2",
   "metadata": {},
   "outputs": [
    {
     "data": {
      "text/plain": [
       "array(['name', 'role', 'facial_features'], dtype=object)"
      ]
     },
     "execution_count": 55,
     "metadata": {},
     "output_type": "execute_result"
    }
   ],
   "source": [
    "col_name = np.array(dataframe_compress.columns)\n",
    "col_name"
   ]
  },
  {
   "cell_type": "code",
   "execution_count": 56,
   "id": "51c9c8c2-3fd4-4797-914c-e07bd027610a",
   "metadata": {},
   "outputs": [],
   "source": [
    "np.savez('dataframe_students_teacher.npz',xvalues,col_name)"
   ]
  },
  {
   "cell_type": "code",
   "execution_count": 57,
   "id": "82142503-40b3-4672-8ef2-008c135c5b56",
   "metadata": {},
   "outputs": [
    {
     "data": {
      "text/plain": [
       "['arr_0', 'arr_1']"
      ]
     },
     "execution_count": 57,
     "metadata": {},
     "output_type": "execute_result"
    }
   ],
   "source": [
    "# Load the numpy zip\n",
    "file_np = np.load('dataframe_students_teacher.npz',allow_pickle=True)\n",
    "file_np.files"
   ]
  },
  {
   "cell_type": "code",
   "execution_count": 58,
   "id": "73446f82-3ecf-4221-9144-8a118e360f99",
   "metadata": {},
   "outputs": [
    {
     "data": {
      "text/html": [
       "<div>\n",
       "<style scoped>\n",
       "    .dataframe tbody tr th:only-of-type {\n",
       "        vertical-align: middle;\n",
       "    }\n",
       "\n",
       "    .dataframe tbody tr th {\n",
       "        vertical-align: top;\n",
       "    }\n",
       "\n",
       "    .dataframe thead th {\n",
       "        text-align: right;\n",
       "    }\n",
       "</style>\n",
       "<table border=\"1\" class=\"dataframe\">\n",
       "  <thead>\n",
       "    <tr style=\"text-align: right;\">\n",
       "      <th></th>\n",
       "      <th>name</th>\n",
       "      <th>role</th>\n",
       "      <th>facial_features</th>\n",
       "    </tr>\n",
       "  </thead>\n",
       "  <tbody>\n",
       "    <tr>\n",
       "      <th>0</th>\n",
       "      <td>Angelina Jolie</td>\n",
       "      <td>Student</td>\n",
       "      <td>[0.43240866661071775, 1.0746602058410644, -0.1...</td>\n",
       "    </tr>\n",
       "    <tr>\n",
       "      <th>1</th>\n",
       "      <td>Barack Obama</td>\n",
       "      <td>Teacher</td>\n",
       "      <td>[0.9487081527709961, -0.5583571434020996, 0.09...</td>\n",
       "    </tr>\n",
       "    <tr>\n",
       "      <th>2</th>\n",
       "      <td>Chris Evans</td>\n",
       "      <td>Student</td>\n",
       "      <td>[0.7200981616973877, -1.4685219764709472, -0.7...</td>\n",
       "    </tr>\n",
       "    <tr>\n",
       "      <th>3</th>\n",
       "      <td>Morgan Freeman</td>\n",
       "      <td>Teacher</td>\n",
       "      <td>[0.4854259490966797, -0.6193630218505859, -0.4...</td>\n",
       "    </tr>\n",
       "    <tr>\n",
       "      <th>4</th>\n",
       "      <td>Scarlett Johansson</td>\n",
       "      <td>Student</td>\n",
       "      <td>[0.19131546020507811, -0.48847036361694335, -1...</td>\n",
       "    </tr>\n",
       "  </tbody>\n",
       "</table>\n",
       "</div>"
      ],
      "text/plain": [
       "                 name     role  \\\n",
       "0      Angelina Jolie  Student   \n",
       "1        Barack Obama  Teacher   \n",
       "2         Chris Evans  Student   \n",
       "3      Morgan Freeman  Teacher   \n",
       "4  Scarlett Johansson  Student   \n",
       "\n",
       "                                     facial_features  \n",
       "0  [0.43240866661071775, 1.0746602058410644, -0.1...  \n",
       "1  [0.9487081527709961, -0.5583571434020996, 0.09...  \n",
       "2  [0.7200981616973877, -1.4685219764709472, -0.7...  \n",
       "3  [0.4854259490966797, -0.6193630218505859, -0.4...  \n",
       "4  [0.19131546020507811, -0.48847036361694335, -1...  "
      ]
     },
     "execution_count": 58,
     "metadata": {},
     "output_type": "execute_result"
    }
   ],
   "source": [
    "pd.DataFrame(file_np['arr_0'],columns=file_np['arr_1'])"
   ]
  },
  {
   "cell_type": "code",
   "execution_count": null,
   "id": "d07f101f-8a89-41c1-8c5e-a6ba21289b02",
   "metadata": {},
   "outputs": [],
   "source": []
  },
  {
   "cell_type": "code",
   "execution_count": null,
   "id": "08081424-789f-4c9b-a600-cbd92fc19be0",
   "metadata": {},
   "outputs": [],
   "source": []
  },
  {
   "cell_type": "code",
   "execution_count": null,
   "id": "1ca588b9-481b-45d7-9f88-4fa9948ef859",
   "metadata": {},
   "outputs": [],
   "source": []
  },
  {
   "cell_type": "code",
   "execution_count": null,
   "id": "a3da6fb4-29f5-4ec4-9570-687bf12929d8",
   "metadata": {},
   "outputs": [],
   "source": []
  }
 ],
 "metadata": {
  "kernelspec": {
   "display_name": "Python 3 (ipykernel)",
   "language": "python",
   "name": "python3"
  },
  "language_info": {
   "codemirror_mode": {
    "name": "ipython",
    "version": 3
   },
   "file_extension": ".py",
   "mimetype": "text/x-python",
   "name": "python",
   "nbconvert_exporter": "python",
   "pygments_lexer": "ipython3",
   "version": "3.11.3"
  }
 },
 "nbformat": 4,
 "nbformat_minor": 5
}
